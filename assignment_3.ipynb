{
  "nbformat": 4,
  "nbformat_minor": 0,
  "metadata": {
    "colab": {
      "provenance": []
    },
    "kernelspec": {
      "name": "python3",
      "display_name": "Python 3"
    },
    "language_info": {
      "name": "python"
    }
  },
  "cells": [
    {
      "cell_type": "code",
      "execution_count": null,
      "metadata": {
        "id": "VsAvMeIld30a"
      },
      "outputs": [],
      "source": []
    },
    {
      "cell_type": "markdown",
      "source": [],
      "metadata": {
        "id": "Ow9t724Td_Fu"
      }
    },
    {
      "cell_type": "markdown",
      "source": [
        "## **1.prime number**"
      ],
      "metadata": {
        "id": "l5LcI2wVeB2u"
      }
    },
    {
      "cell_type": "code",
      "source": [
        "num=int(input(\"enter the number :\" ))\n",
        "#except the number 0 and 1\n",
        "if(num>1):\n",
        "  for i in range(2,(num//2)+1):\n",
        "    if(num%i==0):\n",
        "      print(num,\" is not prime number\")\n",
        "      break\n",
        "  else:\n",
        "      print(num,\" is a prime number\")\n",
        "else:\n",
        "  print(num,\" is not a prime number\")"
      ],
      "metadata": {
        "id": "TKMBcl5KeG0j"
      },
      "execution_count": null,
      "outputs": []
    },
    {
      "cell_type": "markdown",
      "source": [
        "## **2.product of random numbers**"
      ],
      "metadata": {
        "id": "t010Um3Lyvi8"
      }
    },
    {
      "cell_type": "code",
      "source": [
        "import random\n",
        "num1=random.randint(1,10)\n",
        "print(num1)\n",
        "num2=random.randint(1,10)\n",
        "print(num2)\n",
        "product=num1*num2\n",
        "user_product=int(input(\"user entered product is :\"))\n",
        "if(product==user_product):\n",
        "  print(\"correct\")\n",
        "else:\n",
        "  print(\"incorrect\")\n"
      ],
      "metadata": {
        "colab": {
          "base_uri": "https://localhost:8080/"
        },
        "id": "A7CoRwzAf9e4",
        "outputId": "6d916c4e-4764-4aae-83db-67cb684673b6"
      },
      "execution_count": 6,
      "outputs": [
        {
          "output_type": "stream",
          "name": "stdout",
          "text": [
            "8\n",
            "4\n",
            "user entered product is :32\n",
            "correct\n"
          ]
        }
      ]
    },
    {
      "cell_type": "markdown",
      "source": [
        "## **3.square of even/odd numbers**"
      ],
      "metadata": {
        "id": "dG6dwIXSyX6h"
      }
    },
    {
      "cell_type": "code",
      "source": [
        "for i in range(100,201):\n",
        "  if(i%2==0):\n",
        "    print(\"the square of even number \",i,\"is\",i*i)\n",
        "  else:\n",
        "    print(\"the square of odd number \",i,\"is\",i*i)\n",
        "\n",
        "\n",
        "\n",
        "\n"
      ],
      "metadata": {
        "colab": {
          "base_uri": "https://localhost:8080/"
        },
        "id": "WnML48WCiZxE",
        "outputId": "0de93b19-dab7-41ea-dcab-f6d753d19dcd"
      },
      "execution_count": 8,
      "outputs": [
        {
          "output_type": "stream",
          "name": "stdout",
          "text": [
            "the square of even number  100 is 10000\n",
            "the square of odd number  101 is 10201\n",
            "the square of even number  102 is 10404\n",
            "the square of odd number  103 is 10609\n",
            "the square of even number  104 is 10816\n",
            "the square of odd number  105 is 11025\n",
            "the square of even number  106 is 11236\n",
            "the square of odd number  107 is 11449\n",
            "the square of even number  108 is 11664\n",
            "the square of odd number  109 is 11881\n",
            "the square of even number  110 is 12100\n",
            "the square of odd number  111 is 12321\n",
            "the square of even number  112 is 12544\n",
            "the square of odd number  113 is 12769\n",
            "the square of even number  114 is 12996\n",
            "the square of odd number  115 is 13225\n",
            "the square of even number  116 is 13456\n",
            "the square of odd number  117 is 13689\n",
            "the square of even number  118 is 13924\n",
            "the square of odd number  119 is 14161\n",
            "the square of even number  120 is 14400\n",
            "the square of odd number  121 is 14641\n",
            "the square of even number  122 is 14884\n",
            "the square of odd number  123 is 15129\n",
            "the square of even number  124 is 15376\n",
            "the square of odd number  125 is 15625\n",
            "the square of even number  126 is 15876\n",
            "the square of odd number  127 is 16129\n",
            "the square of even number  128 is 16384\n",
            "the square of odd number  129 is 16641\n",
            "the square of even number  130 is 16900\n",
            "the square of odd number  131 is 17161\n",
            "the square of even number  132 is 17424\n",
            "the square of odd number  133 is 17689\n",
            "the square of even number  134 is 17956\n",
            "the square of odd number  135 is 18225\n",
            "the square of even number  136 is 18496\n",
            "the square of odd number  137 is 18769\n",
            "the square of even number  138 is 19044\n",
            "the square of odd number  139 is 19321\n",
            "the square of even number  140 is 19600\n",
            "the square of odd number  141 is 19881\n",
            "the square of even number  142 is 20164\n",
            "the square of odd number  143 is 20449\n",
            "the square of even number  144 is 20736\n",
            "the square of odd number  145 is 21025\n",
            "the square of even number  146 is 21316\n",
            "the square of odd number  147 is 21609\n",
            "the square of even number  148 is 21904\n",
            "the square of odd number  149 is 22201\n",
            "the square of even number  150 is 22500\n",
            "the square of odd number  151 is 22801\n",
            "the square of even number  152 is 23104\n",
            "the square of odd number  153 is 23409\n",
            "the square of even number  154 is 23716\n",
            "the square of odd number  155 is 24025\n",
            "the square of even number  156 is 24336\n",
            "the square of odd number  157 is 24649\n",
            "the square of even number  158 is 24964\n",
            "the square of odd number  159 is 25281\n",
            "the square of even number  160 is 25600\n",
            "the square of odd number  161 is 25921\n",
            "the square of even number  162 is 26244\n",
            "the square of odd number  163 is 26569\n",
            "the square of even number  164 is 26896\n",
            "the square of odd number  165 is 27225\n",
            "the square of even number  166 is 27556\n",
            "the square of odd number  167 is 27889\n",
            "the square of even number  168 is 28224\n",
            "the square of odd number  169 is 28561\n",
            "the square of even number  170 is 28900\n",
            "the square of odd number  171 is 29241\n",
            "the square of even number  172 is 29584\n",
            "the square of odd number  173 is 29929\n",
            "the square of even number  174 is 30276\n",
            "the square of odd number  175 is 30625\n",
            "the square of even number  176 is 30976\n",
            "the square of odd number  177 is 31329\n",
            "the square of even number  178 is 31684\n",
            "the square of odd number  179 is 32041\n",
            "the square of even number  180 is 32400\n",
            "the square of odd number  181 is 32761\n",
            "the square of even number  182 is 33124\n",
            "the square of odd number  183 is 33489\n",
            "the square of even number  184 is 33856\n",
            "the square of odd number  185 is 34225\n",
            "the square of even number  186 is 34596\n",
            "the square of odd number  187 is 34969\n",
            "the square of even number  188 is 35344\n",
            "the square of odd number  189 is 35721\n",
            "the square of even number  190 is 36100\n",
            "the square of odd number  191 is 36481\n",
            "the square of even number  192 is 36864\n",
            "the square of odd number  193 is 37249\n",
            "the square of even number  194 is 37636\n",
            "the square of odd number  195 is 38025\n",
            "the square of even number  196 is 38416\n",
            "the square of odd number  197 is 38809\n",
            "the square of even number  198 is 39204\n",
            "the square of odd number  199 is 39601\n",
            "the square of even number  200 is 40000\n"
          ]
        }
      ]
    },
    {
      "cell_type": "markdown",
      "source": [
        "## **4.word counter**"
      ],
      "metadata": {
        "id": "hRkEyzYxzJRA"
      }
    },
    {
      "cell_type": "code",
      "source": [
        "def count_words(text):\n",
        "  words=text.split()\n",
        "  word_count={}\n",
        "  for word in words:\n",
        "      word=word.strip('.,!?;:')\n",
        "\n",
        "      if word in word_count:\n",
        "                      word_count[word]+=1\n",
        "      else:\n",
        "                      word_count[word]=1\n",
        "\n",
        "  return word_count\n",
        "input_text=str(input(\"enter the text:\"))\n",
        "word_count=count_words(input_text)\n",
        "for word,count in word_count.items():\n",
        "  print(f\"'{word}':{count}\")\n",
        "\n",
        "\n",
        ""
      ],
      "metadata": {
        "colab": {
          "base_uri": "https://localhost:8080/"
        },
        "id": "OG-9ZS_RkEM6",
        "outputId": "4ba0f501-06cd-4147-dabf-d9bbfdfefa8a"
      },
      "execution_count": 19,
      "outputs": [
        {
          "output_type": "stream",
          "name": "stdout",
          "text": [
            "enter the text:my name is spoorthi is my name is spoorthi\n",
            "'my':2\n",
            "'name':2\n",
            "'is':3\n",
            "'spoorthi':2\n"
          ]
        }
      ]
    },
    {
      "cell_type": "markdown",
      "source": [
        "## **5.check for pallindrome**"
      ],
      "metadata": {
        "id": "waH8DLnjzRpZ"
      }
    },
    {
      "cell_type": "code",
      "source": [
        "import re\n",
        "def is_pallindrome(s):\n",
        "  s=s.lower()\n",
        "  s=re.sub(r'[^a-zA-Z0-9]','',s)\n",
        "  return s==s[::-1]\n",
        "input_string=str(input(\"enter the string:\"))\n",
        "if is_pallindrome(input_string):\n",
        "  print(\"the string is pallindrome\")\n",
        "else:\n",
        "  print(\"the string is not  pallindrome\")\n"
      ],
      "metadata": {
        "colab": {
          "base_uri": "https://localhost:8080/"
        },
        "id": "QF1ojcg3tTzM",
        "outputId": "bfcd3d92-acfe-48fc-e3b5-346daab71ef7"
      },
      "execution_count": 21,
      "outputs": [
        {
          "output_type": "stream",
          "name": "stdout",
          "text": [
            "enter the string:spoorthi\n",
            "the string is not  pallindrome\n"
          ]
        }
      ]
    },
    {
      "cell_type": "code",
      "source": [],
      "metadata": {
        "id": "I5NRnTUoxcBG"
      },
      "execution_count": null,
      "outputs": []
    },
    {
      "cell_type": "code",
      "source": [],
      "metadata": {
        "id": "zMHQs5WrxZpX"
      },
      "execution_count": 20,
      "outputs": []
    },
    {
      "cell_type": "code",
      "source": [],
      "metadata": {
        "id": "0TRRGOFoxa56"
      },
      "execution_count": null,
      "outputs": []
    },
    {
      "cell_type": "code",
      "source": [],
      "metadata": {
        "id": "h5iQhLtwxXWu"
      },
      "execution_count": null,
      "outputs": []
    },
    {
      "cell_type": "code",
      "source": [],
      "metadata": {
        "id": "37t3XQMJswPd"
      },
      "execution_count": null,
      "outputs": []
    },
    {
      "cell_type": "code",
      "source": [],
      "metadata": {
        "id": "_JXP7ALOsgh0"
      },
      "execution_count": null,
      "outputs": []
    },
    {
      "cell_type": "code",
      "source": [],
      "metadata": {
        "id": "gSQL8XxWsOja"
      },
      "execution_count": null,
      "outputs": []
    },
    {
      "cell_type": "code",
      "source": [],
      "metadata": {
        "id": "y3bRxNMVr-ca"
      },
      "execution_count": null,
      "outputs": []
    },
    {
      "cell_type": "code",
      "source": [],
      "metadata": {
        "id": "-PZHVHhDrmSg"
      },
      "execution_count": null,
      "outputs": []
    },
    {
      "cell_type": "code",
      "source": [],
      "metadata": {
        "id": "H2Hj35hlrOh0"
      },
      "execution_count": null,
      "outputs": []
    },
    {
      "cell_type": "code",
      "source": [],
      "metadata": {
        "id": "LRzqw091rA7N"
      },
      "execution_count": null,
      "outputs": []
    },
    {
      "cell_type": "code",
      "source": [],
      "metadata": {
        "id": "rci7wtvBq5Zy"
      },
      "execution_count": null,
      "outputs": []
    },
    {
      "cell_type": "code",
      "source": [],
      "metadata": {
        "id": "tYV94M7Zqvsg"
      },
      "execution_count": null,
      "outputs": []
    },
    {
      "cell_type": "code",
      "source": [],
      "metadata": {
        "id": "3hDDW5AVp_hc"
      },
      "execution_count": null,
      "outputs": []
    },
    {
      "cell_type": "code",
      "source": [],
      "metadata": {
        "id": "zTb0PnDpkCpE"
      },
      "execution_count": null,
      "outputs": []
    },
    {
      "cell_type": "code",
      "source": [],
      "metadata": {
        "id": "rVsHgY1Ch34c"
      },
      "execution_count": null,
      "outputs": []
    },
    {
      "cell_type": "code",
      "source": [],
      "metadata": {
        "id": "VZpgfD6bf2OK"
      },
      "execution_count": null,
      "outputs": []
    },
    {
      "cell_type": "code",
      "source": [],
      "metadata": {
        "id": "DJP6yrEofSpE"
      },
      "execution_count": null,
      "outputs": []
    },
    {
      "cell_type": "code",
      "source": [],
      "metadata": {
        "id": "xDk_vObnfKSz"
      },
      "execution_count": null,
      "outputs": []
    }
  ]
}